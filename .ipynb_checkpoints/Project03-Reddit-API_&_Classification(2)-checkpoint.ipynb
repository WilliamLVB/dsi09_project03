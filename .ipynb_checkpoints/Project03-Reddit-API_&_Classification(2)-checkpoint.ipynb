{
 "cells": [
  {
   "cell_type": "markdown",
   "metadata": {},
   "source": [
    "# Data cleaning & Exploratory Data Analysis"
   ]
  },
  {
   "cell_type": "code",
   "execution_count": 1,
   "metadata": {},
   "outputs": [],
   "source": [
    "import requests\n",
    "import time\n",
    "import pandas as pd\n",
    "from pandas.io.json import json_normalize\n",
    "from sklearn.model_selection import cross_val_score\n",
    "from sklearn.metrics import confusion_matrix\n",
    "import matplotlib.pyplot as plt\n",
    "import seaborn as sns\n",
    "from wordcloud import WordCloud, STOPWORDS\n",
    "import numpy as npy\n",
    "from PIL import Image\n",
    "import warnings\n",
    "warnings.filterwarnings('ignore')"
   ]
  },
  {
   "cell_type": "code",
   "execution_count": 2,
   "metadata": {},
   "outputs": [],
   "source": [
    "#extrccted data twice to have a large enough sample.\n",
    "d_api11 = pd.read_csv('./data/d_api_askscience.csv')\n",
    "d_api21 = pd.read_csv('./data/d_api2_science.csv')\n",
    "\n",
    "d_api12 = pd.read_csv('./data/d_api_askscience02.csv')\n",
    "d_api22 = pd.read_csv('./data/d_api2_science02.csv')"
   ]
  },
  {
   "cell_type": "code",
   "execution_count": 3,
   "metadata": {},
   "outputs": [
    {
     "data": {
      "text/plain": [
       "Index(['data.all_awardings', 'data.allow_live_comments',\n",
       "       'data.approved_at_utc', 'data.approved_by', 'data.archived',\n",
       "       'data.author', 'data.author_cakeday',\n",
       "       'data.author_flair_background_color', 'data.author_flair_css_class',\n",
       "       'data.author_flair_richtext', 'data.author_flair_template_id',\n",
       "       'data.author_flair_text', 'data.author_flair_text_color',\n",
       "       'data.author_flair_type', 'data.author_fullname',\n",
       "       'data.author_patreon_flair', 'data.banned_at_utc', 'data.banned_by',\n",
       "       'data.can_gild', 'data.can_mod_post', 'data.category', 'data.clicked',\n",
       "       'data.content_categories', 'data.contest_mode', 'data.created',\n",
       "       'data.created_utc', 'data.discussion_type', 'data.distinguished',\n",
       "       'data.domain', 'data.downs', 'data.edited', 'data.gilded',\n",
       "       'data.gildings.gid_1', 'data.gildings.gid_2', 'data.gildings.gid_3',\n",
       "       'data.hidden', 'data.hide_score', 'data.id', 'data.is_crosspostable',\n",
       "       'data.is_meta', 'data.is_original_content',\n",
       "       'data.is_reddit_media_domain', 'data.is_robot_indexable',\n",
       "       'data.is_self', 'data.is_video', 'data.likes',\n",
       "       'data.link_flair_background_color', 'data.link_flair_css_class',\n",
       "       'data.link_flair_richtext', 'data.link_flair_template_id',\n",
       "       'data.link_flair_text', 'data.link_flair_text_color',\n",
       "       'data.link_flair_type', 'data.locked', 'data.media', 'data.media_only',\n",
       "       'data.mod_note', 'data.mod_reason_by', 'data.mod_reason_title',\n",
       "       'data.mod_reports', 'data.name', 'data.no_follow', 'data.num_comments',\n",
       "       'data.num_crossposts', 'data.num_reports', 'data.over_18',\n",
       "       'data.parent_whitelist_status', 'data.permalink', 'data.pinned',\n",
       "       'data.pwls', 'data.quarantine', 'data.removal_reason',\n",
       "       'data.report_reasons', 'data.saved', 'data.score', 'data.secure_media',\n",
       "       'data.selftext', 'data.selftext_html', 'data.send_replies',\n",
       "       'data.spoiler', 'data.stickied', 'data.subreddit', 'data.subreddit_id',\n",
       "       'data.subreddit_name_prefixed', 'data.subreddit_subscribers',\n",
       "       'data.subreddit_type', 'data.suggested_sort', 'data.thumbnail',\n",
       "       'data.title', 'data.total_awards_received', 'data.ups', 'data.url',\n",
       "       'data.user_reports', 'data.view_count', 'data.visited',\n",
       "       'data.whitelist_status', 'data.wls', 'kind'],\n",
       "      dtype='object')"
      ]
     },
     "execution_count": 3,
     "metadata": {},
     "output_type": "execute_result"
    }
   ],
   "source": [
    "#investigating the column contains post / title of post.\n",
    "d_api11.columns"
   ]
  },
  {
   "cell_type": "code",
   "execution_count": 4,
   "metadata": {},
   "outputs": [
    {
     "data": {
      "text/plain": [
       "Index(['data.all_awardings', 'data.allow_live_comments',\n",
       "       'data.approved_at_utc', 'data.approved_by', 'data.archived',\n",
       "       'data.author', 'data.author_flair_background_color',\n",
       "       'data.author_flair_css_class', 'data.author_flair_richtext',\n",
       "       'data.author_flair_template_id',\n",
       "       ...\n",
       "       'data.title', 'data.total_awards_received', 'data.ups', 'data.url',\n",
       "       'data.user_reports', 'data.view_count', 'data.visited',\n",
       "       'data.whitelist_status', 'data.wls', 'kind'],\n",
       "      dtype='object', length=102)"
      ]
     },
     "execution_count": 4,
     "metadata": {},
     "output_type": "execute_result"
    }
   ],
   "source": [
    "#investigating the column contains post / title of post.\n",
    "d_api21.columns"
   ]
  },
  {
   "cell_type": "markdown",
   "metadata": {},
   "source": [
    "###### **Apparently, data.title contains title of post**."
   ]
  },
  {
   "cell_type": "markdown",
   "metadata": {},
   "source": [
    "## Pre-processing"
   ]
  },
  {
   "cell_type": "markdown",
   "metadata": {},
   "source": [
    "##### Below, we'll be combining data from r/askscience into a data frame 'data_as' & adding a column 'category' (which will be our target - y)."
   ]
  },
  {
   "cell_type": "code",
   "execution_count": 5,
   "metadata": {},
   "outputs": [],
   "source": [
    "data_asksc01 = pd.DataFrame(d_api11['data.title'])\n",
    "data_asksc02 = pd.DataFrame(d_api12['data.title'])"
   ]
  },
  {
   "cell_type": "code",
   "execution_count": 6,
   "metadata": {},
   "outputs": [],
   "source": [
    "data_asksc = pd.concat([data_asksc01, data_asksc02], join='outer', axis=0)"
   ]
  },
  {
   "cell_type": "code",
   "execution_count": 7,
   "metadata": {},
   "outputs": [
    {
     "data": {
      "text/plain": [
       "(1018, 2)"
      ]
     },
     "execution_count": 7,
     "metadata": {},
     "output_type": "execute_result"
    }
   ],
   "source": [
    "data_as = data_asksc.drop_duplicates(subset='data.title').reset_index().drop('index', axis=1)\n",
    "data_as['category'] = 0 #assign \"0\" to r/askscience\n",
    "data_as.shape"
   ]
  },
  {
   "cell_type": "code",
   "execution_count": 8,
   "metadata": {},
   "outputs": [
    {
     "data": {
      "text/html": [
       "<div>\n",
       "<style scoped>\n",
       "    .dataframe tbody tr th:only-of-type {\n",
       "        vertical-align: middle;\n",
       "    }\n",
       "\n",
       "    .dataframe tbody tr th {\n",
       "        vertical-align: top;\n",
       "    }\n",
       "\n",
       "    .dataframe thead th {\n",
       "        text-align: right;\n",
       "    }\n",
       "</style>\n",
       "<table border=\"1\" class=\"dataframe\">\n",
       "  <thead>\n",
       "    <tr style=\"text-align: right;\">\n",
       "      <th></th>\n",
       "      <th>data.title</th>\n",
       "      <th>category</th>\n",
       "    </tr>\n",
       "  </thead>\n",
       "  <tbody>\n",
       "    <tr>\n",
       "      <th>1013</th>\n",
       "      <td>In the study of Biology, has there ever been a...</td>\n",
       "      <td>0</td>\n",
       "    </tr>\n",
       "    <tr>\n",
       "      <th>1014</th>\n",
       "      <td>Why can an organ, like the cornea, lung, or a ...</td>\n",
       "      <td>0</td>\n",
       "    </tr>\n",
       "    <tr>\n",
       "      <th>1015</th>\n",
       "      <td>I know that all people have helpful bacteria i...</td>\n",
       "      <td>0</td>\n",
       "    </tr>\n",
       "    <tr>\n",
       "      <th>1016</th>\n",
       "      <td>How related is brain energy expenditure to int...</td>\n",
       "      <td>0</td>\n",
       "    </tr>\n",
       "    <tr>\n",
       "      <th>1017</th>\n",
       "      <td>So if a bee can still sting after death, how l...</td>\n",
       "      <td>0</td>\n",
       "    </tr>\n",
       "  </tbody>\n",
       "</table>\n",
       "</div>"
      ],
      "text/plain": [
       "                                             data.title  category\n",
       "1013  In the study of Biology, has there ever been a...         0\n",
       "1014  Why can an organ, like the cornea, lung, or a ...         0\n",
       "1015  I know that all people have helpful bacteria i...         0\n",
       "1016  How related is brain energy expenditure to int...         0\n",
       "1017  So if a bee can still sting after death, how l...         0"
      ]
     },
     "execution_count": 8,
     "metadata": {},
     "output_type": "execute_result"
    }
   ],
   "source": [
    "data_as.tail()"
   ]
  },
  {
   "cell_type": "markdown",
   "metadata": {},
   "source": [
    "##### Below, we'll be combining data from r/science into a data frame 'data_s' & adding a column 'category' (which will be our target - y)."
   ]
  },
  {
   "cell_type": "code",
   "execution_count": 9,
   "metadata": {},
   "outputs": [],
   "source": [
    "data_sc01 = pd.DataFrame(d_api21['data.title'])\n",
    "data_sc02 = pd.DataFrame(d_api22['data.title'])"
   ]
  },
  {
   "cell_type": "code",
   "execution_count": 10,
   "metadata": {},
   "outputs": [],
   "source": [
    "data_sc = pd.concat([data_sc01, data_sc02], join='outer', axis=0)"
   ]
  },
  {
   "cell_type": "code",
   "execution_count": 11,
   "metadata": {},
   "outputs": [
    {
     "data": {
      "text/plain": [
       "(689, 2)"
      ]
     },
     "execution_count": 11,
     "metadata": {},
     "output_type": "execute_result"
    }
   ],
   "source": [
    "data_s = data_sc.drop_duplicates(subset='data.title').reset_index().drop('index', axis=1)\n",
    "data_s['category'] = 1 #assign \"1\" to r/science\n",
    "data_s.shape"
   ]
  },
  {
   "cell_type": "code",
   "execution_count": 12,
   "metadata": {},
   "outputs": [
    {
     "data": {
      "text/html": [
       "<div>\n",
       "<style scoped>\n",
       "    .dataframe tbody tr th:only-of-type {\n",
       "        vertical-align: middle;\n",
       "    }\n",
       "\n",
       "    .dataframe tbody tr th {\n",
       "        vertical-align: top;\n",
       "    }\n",
       "\n",
       "    .dataframe thead th {\n",
       "        text-align: right;\n",
       "    }\n",
       "</style>\n",
       "<table border=\"1\" class=\"dataframe\">\n",
       "  <thead>\n",
       "    <tr style=\"text-align: right;\">\n",
       "      <th></th>\n",
       "      <th>data.title</th>\n",
       "      <th>category</th>\n",
       "    </tr>\n",
       "  </thead>\n",
       "  <tbody>\n",
       "    <tr>\n",
       "      <th>684</th>\n",
       "      <td>Bird Embryos Vibrate to Warn One Another of Da...</td>\n",
       "      <td>1</td>\n",
       "    </tr>\n",
       "    <tr>\n",
       "      <th>685</th>\n",
       "      <td>Human Bycatch: Conservation Surveillance and t...</td>\n",
       "      <td>1</td>\n",
       "    </tr>\n",
       "    <tr>\n",
       "      <th>686</th>\n",
       "      <td>This everyday chemical was cast aside. Its rep...</td>\n",
       "      <td>1</td>\n",
       "    </tr>\n",
       "    <tr>\n",
       "      <th>687</th>\n",
       "      <td>Immune-orthogonal orthologs of AAV capsids and...</td>\n",
       "      <td>1</td>\n",
       "    </tr>\n",
       "    <tr>\n",
       "      <th>688</th>\n",
       "      <td>7% of carbon stores in central African rain fo...</td>\n",
       "      <td>1</td>\n",
       "    </tr>\n",
       "  </tbody>\n",
       "</table>\n",
       "</div>"
      ],
      "text/plain": [
       "                                            data.title  category\n",
       "684  Bird Embryos Vibrate to Warn One Another of Da...         1\n",
       "685  Human Bycatch: Conservation Surveillance and t...         1\n",
       "686  This everyday chemical was cast aside. Its rep...         1\n",
       "687  Immune-orthogonal orthologs of AAV capsids and...         1\n",
       "688  7% of carbon stores in central African rain fo...         1"
      ]
     },
     "execution_count": 12,
     "metadata": {},
     "output_type": "execute_result"
    }
   ],
   "source": [
    "data_s.tail()"
   ]
  },
  {
   "cell_type": "markdown",
   "metadata": {},
   "source": [
    "##### Below, we'll be combining both data frame into a data frame 'data'."
   ]
  },
  {
   "cell_type": "code",
   "execution_count": 13,
   "metadata": {},
   "outputs": [
    {
     "name": "stdout",
     "output_type": "stream",
     "text": [
      "data shape = (1707, 2)\n"
     ]
    },
    {
     "data": {
      "text/html": [
       "<div>\n",
       "<style scoped>\n",
       "    .dataframe tbody tr th:only-of-type {\n",
       "        vertical-align: middle;\n",
       "    }\n",
       "\n",
       "    .dataframe tbody tr th {\n",
       "        vertical-align: top;\n",
       "    }\n",
       "\n",
       "    .dataframe thead th {\n",
       "        text-align: right;\n",
       "    }\n",
       "</style>\n",
       "<table border=\"1\" class=\"dataframe\">\n",
       "  <thead>\n",
       "    <tr style=\"text-align: right;\">\n",
       "      <th></th>\n",
       "      <th>data.title</th>\n",
       "      <th>category</th>\n",
       "    </tr>\n",
       "  </thead>\n",
       "  <tbody>\n",
       "    <tr>\n",
       "      <th>1702</th>\n",
       "      <td>Bird Embryos Vibrate to Warn One Another of Da...</td>\n",
       "      <td>1</td>\n",
       "    </tr>\n",
       "    <tr>\n",
       "      <th>1703</th>\n",
       "      <td>Human Bycatch: Conservation Surveillance and t...</td>\n",
       "      <td>1</td>\n",
       "    </tr>\n",
       "    <tr>\n",
       "      <th>1704</th>\n",
       "      <td>This everyday chemical was cast aside. Its rep...</td>\n",
       "      <td>1</td>\n",
       "    </tr>\n",
       "    <tr>\n",
       "      <th>1705</th>\n",
       "      <td>Immune-orthogonal orthologs of AAV capsids and...</td>\n",
       "      <td>1</td>\n",
       "    </tr>\n",
       "    <tr>\n",
       "      <th>1706</th>\n",
       "      <td>7% of carbon stores in central African rain fo...</td>\n",
       "      <td>1</td>\n",
       "    </tr>\n",
       "  </tbody>\n",
       "</table>\n",
       "</div>"
      ],
      "text/plain": [
       "                                             data.title  category\n",
       "1702  Bird Embryos Vibrate to Warn One Another of Da...         1\n",
       "1703  Human Bycatch: Conservation Surveillance and t...         1\n",
       "1704  This everyday chemical was cast aside. Its rep...         1\n",
       "1705  Immune-orthogonal orthologs of AAV capsids and...         1\n",
       "1706  7% of carbon stores in central African rain fo...         1"
      ]
     },
     "execution_count": 13,
     "metadata": {},
     "output_type": "execute_result"
    }
   ],
   "source": [
    "#this it the data I'll be working on\n",
    "data = pd.DataFrame(pd.concat([data_as, data_s], join='outer', axis=0))\n",
    "data = data.reset_index().drop('index', axis=1)\n",
    "print('data shape =', data.shape)\n",
    "data.tail()"
   ]
  },
  {
   "cell_type": "markdown",
   "metadata": {},
   "source": [
    "# Modelling"
   ]
  },
  {
   "cell_type": "code",
   "execution_count": 14,
   "metadata": {},
   "outputs": [],
   "source": [
    "from sklearn.feature_extraction.text import CountVectorizer"
   ]
  },
  {
   "cell_type": "code",
   "execution_count": 15,
   "metadata": {},
   "outputs": [],
   "source": [
    "#some alternatives parameters which will be used later.\n",
    "cvec = CountVectorizer(stop_words='english') #only considering stop-words\n",
    "cvec2 = CountVectorizer(ngram_range=(1, 2)) #only considering ngram\n",
    "cvec3 = CountVectorizer(stop_words='english', ngram_range=(1, 2)) #considering both stop-words & ngram"
   ]
  },
  {
   "cell_type": "code",
   "execution_count": 16,
   "metadata": {},
   "outputs": [
    {
     "data": {
      "text/html": [
       "<div>\n",
       "<style scoped>\n",
       "    .dataframe tbody tr th:only-of-type {\n",
       "        vertical-align: middle;\n",
       "    }\n",
       "\n",
       "    .dataframe tbody tr th {\n",
       "        vertical-align: top;\n",
       "    }\n",
       "\n",
       "    .dataframe thead th {\n",
       "        text-align: right;\n",
       "    }\n",
       "</style>\n",
       "<table border=\"1\" class=\"dataframe\">\n",
       "  <thead>\n",
       "    <tr style=\"text-align: right;\">\n",
       "      <th></th>\n",
       "      <th>000</th>\n",
       "      <th>000ppm</th>\n",
       "      <th>000v</th>\n",
       "      <th>043</th>\n",
       "      <th>045</th>\n",
       "      <th>05</th>\n",
       "      <th>10</th>\n",
       "      <th>100</th>\n",
       "      <th>1000</th>\n",
       "      <th>101</th>\n",
       "      <th>...</th>\n",
       "      <th>zeroes</th>\n",
       "      <th>zig</th>\n",
       "      <th>zika</th>\n",
       "      <th>zinc</th>\n",
       "      <th>zombie</th>\n",
       "      <th>zone</th>\n",
       "      <th>zürich</th>\n",
       "      <th>µg</th>\n",
       "      <th>δ13c</th>\n",
       "      <th>y_target</th>\n",
       "    </tr>\n",
       "  </thead>\n",
       "  <tbody>\n",
       "    <tr>\n",
       "      <th>1702</th>\n",
       "      <td>0</td>\n",
       "      <td>0</td>\n",
       "      <td>0</td>\n",
       "      <td>0</td>\n",
       "      <td>0</td>\n",
       "      <td>0</td>\n",
       "      <td>0</td>\n",
       "      <td>0</td>\n",
       "      <td>0</td>\n",
       "      <td>0</td>\n",
       "      <td>...</td>\n",
       "      <td>0</td>\n",
       "      <td>0</td>\n",
       "      <td>0</td>\n",
       "      <td>0</td>\n",
       "      <td>0</td>\n",
       "      <td>0</td>\n",
       "      <td>0</td>\n",
       "      <td>0</td>\n",
       "      <td>0</td>\n",
       "      <td>1</td>\n",
       "    </tr>\n",
       "    <tr>\n",
       "      <th>1703</th>\n",
       "      <td>0</td>\n",
       "      <td>0</td>\n",
       "      <td>0</td>\n",
       "      <td>0</td>\n",
       "      <td>0</td>\n",
       "      <td>0</td>\n",
       "      <td>0</td>\n",
       "      <td>0</td>\n",
       "      <td>0</td>\n",
       "      <td>0</td>\n",
       "      <td>...</td>\n",
       "      <td>0</td>\n",
       "      <td>0</td>\n",
       "      <td>0</td>\n",
       "      <td>0</td>\n",
       "      <td>0</td>\n",
       "      <td>0</td>\n",
       "      <td>0</td>\n",
       "      <td>0</td>\n",
       "      <td>0</td>\n",
       "      <td>1</td>\n",
       "    </tr>\n",
       "    <tr>\n",
       "      <th>1704</th>\n",
       "      <td>0</td>\n",
       "      <td>0</td>\n",
       "      <td>0</td>\n",
       "      <td>0</td>\n",
       "      <td>0</td>\n",
       "      <td>0</td>\n",
       "      <td>0</td>\n",
       "      <td>0</td>\n",
       "      <td>0</td>\n",
       "      <td>0</td>\n",
       "      <td>...</td>\n",
       "      <td>0</td>\n",
       "      <td>0</td>\n",
       "      <td>0</td>\n",
       "      <td>0</td>\n",
       "      <td>0</td>\n",
       "      <td>0</td>\n",
       "      <td>0</td>\n",
       "      <td>0</td>\n",
       "      <td>0</td>\n",
       "      <td>1</td>\n",
       "    </tr>\n",
       "    <tr>\n",
       "      <th>1705</th>\n",
       "      <td>0</td>\n",
       "      <td>0</td>\n",
       "      <td>0</td>\n",
       "      <td>0</td>\n",
       "      <td>0</td>\n",
       "      <td>0</td>\n",
       "      <td>0</td>\n",
       "      <td>0</td>\n",
       "      <td>0</td>\n",
       "      <td>0</td>\n",
       "      <td>...</td>\n",
       "      <td>0</td>\n",
       "      <td>0</td>\n",
       "      <td>0</td>\n",
       "      <td>0</td>\n",
       "      <td>0</td>\n",
       "      <td>0</td>\n",
       "      <td>0</td>\n",
       "      <td>0</td>\n",
       "      <td>0</td>\n",
       "      <td>1</td>\n",
       "    </tr>\n",
       "    <tr>\n",
       "      <th>1706</th>\n",
       "      <td>0</td>\n",
       "      <td>0</td>\n",
       "      <td>0</td>\n",
       "      <td>0</td>\n",
       "      <td>0</td>\n",
       "      <td>0</td>\n",
       "      <td>0</td>\n",
       "      <td>0</td>\n",
       "      <td>0</td>\n",
       "      <td>0</td>\n",
       "      <td>...</td>\n",
       "      <td>0</td>\n",
       "      <td>0</td>\n",
       "      <td>0</td>\n",
       "      <td>0</td>\n",
       "      <td>0</td>\n",
       "      <td>0</td>\n",
       "      <td>0</td>\n",
       "      <td>0</td>\n",
       "      <td>0</td>\n",
       "      <td>1</td>\n",
       "    </tr>\n",
       "  </tbody>\n",
       "</table>\n",
       "<p>5 rows × 6616 columns</p>\n",
       "</div>"
      ],
      "text/plain": [
       "      000  000ppm  000v  043  045  05  10  100  1000  101  ...  zeroes  zig  \\\n",
       "1702    0       0     0    0    0   0   0    0     0    0  ...       0    0   \n",
       "1703    0       0     0    0    0   0   0    0     0    0  ...       0    0   \n",
       "1704    0       0     0    0    0   0   0    0     0    0  ...       0    0   \n",
       "1705    0       0     0    0    0   0   0    0     0    0  ...       0    0   \n",
       "1706    0       0     0    0    0   0   0    0     0    0  ...       0    0   \n",
       "\n",
       "      zika  zinc  zombie  zone  zürich  µg  δ13c  y_target  \n",
       "1702     0     0       0     0       0   0     0         1  \n",
       "1703     0     0       0     0       0   0     0         1  \n",
       "1704     0     0       0     0       0   0     0         1  \n",
       "1705     0     0       0     0       0   0     0         1  \n",
       "1706     0     0       0     0       0   0     0         1  \n",
       "\n",
       "[5 rows x 6616 columns]"
      ]
     },
     "execution_count": 16,
     "metadata": {},
     "output_type": "execute_result"
    }
   ],
   "source": [
    "data_cv = pd.DataFrame(cvec.fit_transform(data['data.title']).todense(), columns=cvec.get_feature_names())\n",
    "data_cv['y_target'] = data['category']\n",
    "data_cv.tail()"
   ]
  },
  {
   "cell_type": "markdown",
   "metadata": {},
   "source": [
    "### Plotting the top 15 words in each group"
   ]
  },
  {
   "cell_type": "code",
   "execution_count": 17,
   "metadata": {
    "scrolled": true
   },
   "outputs": [],
   "source": [
    "plotplot0 = data_cv[data_cv['y_target'] == 0].drop('y_target', axis=1)\n",
    "df_plot0 = pd.DataFrame(plotplot0.sum().sort_values(ascending=False).head(15), columns=['count'])"
   ]
  },
  {
   "cell_type": "code",
   "execution_count": 18,
   "metadata": {},
   "outputs": [
    {
     "data": {
      "image/png": "[encoded data removed]",
      "text/plain": [
       "<Figure size 720x360 with 1 Axes>"
      ]
     },
     "metadata": {},
     "output_type": "display_data"
    }
   ],
   "source": [
    "sns.set(style='darkgrid', font_scale=1);\n",
    "plt.figure(figsize=(10,5))\n",
    "sns.barplot(data=df_plot0.T)\n",
    "plt.suptitle('The most frequent words r/askscience', fontsize=30);"
   ]
  },
  {
   "cell_type": "code",
   "execution_count": 19,
   "metadata": {},
   "outputs": [],
   "source": [
    "plotplot1 = data_cv[data_cv['y_target'] == 1].drop('y_target', axis=1)\n",
    "df_plot1 = pd.DataFrame(plotplot1.sum().sort_values(ascending=False).head(15), columns=['count'])"
   ]
  },
  {
   "cell_type": "code",
   "execution_count": 20,
   "metadata": {},
   "outputs": [
    {
     "data": {
      "image/png": "[encoded data removed]",
      "text/plain": [
       "<Figure size 720x360 with 1 Axes>"
      ]
     },
     "metadata": {},
     "output_type": "display_data"
    }
   ],
   "source": [
    "sns.set(style='darkgrid', font_scale=1);\n",
    "plt.figure(figsize=(10,5))\n",
    "sns.barplot(data=df_plot1.T)\n",
    "plt.suptitle('The most frequent words r/science', fontsize=30);"
   ]
  },
  {
   "cell_type": "markdown",
   "metadata": {},
   "source": [
    "# Split data into train & test"
   ]
  },
  {
   "cell_type": "code",
   "execution_count": 21,
   "metadata": {},
   "outputs": [],
   "source": [
    "from sklearn.model_selection import train_test_split"
   ]
  },
  {
   "cell_type": "code",
   "execution_count": 22,
   "metadata": {},
   "outputs": [
    {
     "name": "stdout",
     "output_type": "stream",
     "text": [
      "train data:  (1450, 6616)\n",
      "test data:  (257, 6616)\n"
     ]
    }
   ],
   "source": [
    "data_t, data_h = train_test_split(data_cv, test_size=0.15, random_state=77, stratify=data['category'])\n",
    "print('train data: ', data_t.shape)\n",
    "print('test data: ', data_h.shape)"
   ]
  },
  {
   "cell_type": "markdown",
   "metadata": {},
   "source": [
    "# Fitting Logistic Regression Model"
   ]
  },
  {
   "cell_type": "code",
   "execution_count": 23,
   "metadata": {},
   "outputs": [],
   "source": [
    "from sklearn.linear_model import LogisticRegression"
   ]
  },
  {
   "cell_type": "code",
   "execution_count": 24,
   "metadata": {},
   "outputs": [
    {
     "name": "stdout",
     "output_type": "stream",
     "text": [
      "X train:  (1450, 6615)\n",
      "y train:  (1450,)\n",
      "X test:  (257, 6615)\n",
      "y test:  (257,)\n"
     ]
    }
   ],
   "source": [
    "X_t = data_t.drop('y_target', axis=1)\n",
    "y_t = data_t['y_target']\n",
    "X_h = data_h.drop('y_target', axis=1)\n",
    "y_h = data_h['y_target']\n",
    "\n",
    "print('X train: ', X_t.shape)\n",
    "print('y train: ', y_t.shape)\n",
    "print('X test: ', X_h.shape)\n",
    "print('y test: ', y_h.shape)"
   ]
  },
  {
   "cell_type": "markdown",
   "metadata": {},
   "source": [
    "### BoW - stop_words"
   ]
  },
  {
   "cell_type": "code",
   "execution_count": 25,
   "metadata": {},
   "outputs": [
    {
     "name": "stdout",
     "output_type": "stream",
     "text": [
      "train score:  0.9944827586206897\n",
      "cv score:  [0.86896552 0.84137931 0.85862069 0.86551724 0.83103448]\n",
      "cv score average:  0.853103448275862\n",
      "test score:  0.8988326848249028\n"
     ]
    }
   ],
   "source": [
    "logreg = LogisticRegression()\n",
    "logreg.fit(X_t, y_t)\n",
    "y_pred = logreg.predict(X_h)\n",
    "print('train score: ', logreg.score(X_t, y_t))\n",
    "print('cv score: ', cross_val_score(logreg, X_t, y_t, cv=5))\n",
    "print('cv score average: ', cross_val_score(logreg, X_t, y_t, cv=5).mean())\n",
    "print('test score: ', logreg.score(X_h, y_h))"
   ]
  },
  {
   "cell_type": "code",
   "execution_count": 26,
   "metadata": {},
   "outputs": [
    {
     "name": "stdout",
     "output_type": "stream",
     "text": [
      "[[148   5]\n",
      " [ 21  83]]\n",
      "----------\n",
      "True Negatives: 148\n",
      "False Positives: 5\n",
      "False Negatives: 21\n",
      "True Positives: 83\n",
      "----------\n",
      "accuracy =  0.8988326848249028\n",
      "miss_class =  0.10116731517509728\n",
      "sensitivity =  0.7980769230769231\n",
      "specificity =  0.9673202614379085\n",
      "precision =  0.9431818181818182\n"
     ]
    }
   ],
   "source": [
    "print(confusion_matrix(y_h, y_pred))\n",
    "print('----------')\n",
    "tn, fp, fn, tp = confusion_matrix(y_h, y_pred).ravel()\n",
    "print(\"True Negatives: %s\" % tn)\n",
    "print(\"False Positives: %s\" % fp)\n",
    "print(\"False Negatives: %s\" % fn)\n",
    "print(\"True Positives: %s\" % tp)\n",
    "print('----------')\n",
    "accuracy = (tp+tn)/(tp+fp+tn+fn)\n",
    "miss_class = (fp+fn)/(tp+fp+tn+fn)\n",
    "sensitivity = tp/(tp+fn)\n",
    "specificity = tn/(tn+fp)\n",
    "precision = tp/(tp+fp)\n",
    "print('accuracy = ', accuracy)\n",
    "print('miss_class = ', miss_class)\n",
    "print('sensitivity = ', sensitivity)\n",
    "print('specificity = ', specificity)\n",
    "print('precision = ', precision)"
   ]
  },
  {
   "cell_type": "markdown",
   "metadata": {},
   "source": [
    "### BoW - ngram"
   ]
  },
  {
   "cell_type": "code",
   "execution_count": 27,
   "metadata": {},
   "outputs": [
    {
     "data": {
      "text/plain": [
       "the         1381\n",
       "of           964\n",
       "to           857\n",
       "in           743\n",
       "y_target     689\n",
       "and          603\n",
       "is           430\n",
       "that         377\n",
       "how          356\n",
       "are          290\n",
       "dtype: int64"
      ]
     },
     "execution_count": 27,
     "metadata": {},
     "output_type": "execute_result"
    }
   ],
   "source": [
    "data_cv2 = pd.DataFrame(cvec2.fit_transform(data['data.title']).todense(), columns=cvec2.get_feature_names())\n",
    "data_cv2['y_target'] = data['category']\n",
    "data_cv2.sum().sort_values(ascending=False).head(10)"
   ]
  },
  {
   "cell_type": "code",
   "execution_count": 28,
   "metadata": {},
   "outputs": [],
   "source": [
    "data_t2, data_h2 = train_test_split(data_cv2, test_size=0.15, random_state=77, stratify=data['category'])"
   ]
  },
  {
   "cell_type": "code",
   "execution_count": 29,
   "metadata": {},
   "outputs": [
    {
     "name": "stdout",
     "output_type": "stream",
     "text": [
      "(1450, 30197)\n",
      "(1450,)\n",
      "(257, 30197)\n",
      "(257,)\n"
     ]
    }
   ],
   "source": [
    "X_t2 = data_t2.drop('y_target', axis=1)\n",
    "y_t2 = data_t2['y_target']\n",
    "X_h2 = data_h2.drop('y_target', axis=1)\n",
    "y_h2 = data_h2['y_target']\n",
    "\n",
    "print(X_t2.shape)\n",
    "print(y_t2.shape)\n",
    "print(X_h2.shape)\n",
    "print(y_h2.shape)"
   ]
  },
  {
   "cell_type": "code",
   "execution_count": 30,
   "metadata": {},
   "outputs": [
    {
     "name": "stdout",
     "output_type": "stream",
     "text": [
      "train score:  1.0\n",
      "cv score:  [0.94827586 0.94482759 0.92413793 0.93103448 0.93103448]\n",
      "cv score average:  0.9358620689655173\n",
      "test score:  0.933852140077821\n"
     ]
    }
   ],
   "source": [
    "logreg2 = LogisticRegression()\n",
    "logreg2.fit(X_t2, y_t2)\n",
    "y_pred = logreg2.predict(X_h2)\n",
    "print('train score: ', logreg2.score(X_t2, y_t2))\n",
    "print('cv score: ', cross_val_score(logreg2, X_t2, y_t2, cv=5))\n",
    "print('cv score average: ', cross_val_score(logreg2, X_t2, y_t2, cv=5).mean())\n",
    "print('test score: ', logreg2.score(X_h2, y_h2))"
   ]
  },
  {
   "cell_type": "code",
   "execution_count": 31,
   "metadata": {},
   "outputs": [
    {
     "name": "stdout",
     "output_type": "stream",
     "text": [
      "[[146   7]\n",
      " [ 10  94]]\n",
      "----------\n",
      "True Negatives: 146\n",
      "False Positives: 7\n",
      "False Negatives: 10\n",
      "True Positives: 94\n",
      "----------\n",
      "accuracy =  0.933852140077821\n",
      "miss_class =  0.06614785992217899\n",
      "sensitivity =  0.9038461538461539\n",
      "specificity =  0.954248366013072\n",
      "precision =  0.9306930693069307\n"
     ]
    }
   ],
   "source": [
    "print(confusion_matrix(y_h2, y_pred))\n",
    "print('----------')\n",
    "tn, fp, fn, tp = confusion_matrix(y_h2, y_pred).ravel()\n",
    "print(\"True Negatives: %s\" % tn)\n",
    "print(\"False Positives: %s\" % fp)\n",
    "print(\"False Negatives: %s\" % fn)\n",
    "print(\"True Positives: %s\" % tp)\n",
    "print('----------')\n",
    "accuracy = (tp+tn)/(tp+fp+tn+fn)\n",
    "miss_class = (fp+fn)/(tp+fp+tn+fn)\n",
    "sensitivity = tp/(tp+fn)\n",
    "specificity = tn/(tn+fp)\n",
    "precision = tp/(tp+fp)\n",
    "print('accuracy = ', accuracy)\n",
    "print('miss_class = ', miss_class)\n",
    "print('sensitivity = ', sensitivity)\n",
    "print('specificity = ', specificity)\n",
    "print('precision = ', precision)"
   ]
  },
  {
   "cell_type": "markdown",
   "metadata": {},
   "source": [
    "### BoW - stop-words & ngram"
   ]
  },
  {
   "cell_type": "code",
   "execution_count": 32,
   "metadata": {},
   "outputs": [
    {
     "data": {
      "text/plain": [
       "y_target      689\n",
       "does          224\n",
       "new           185\n",
       "study         172\n",
       "like           70\n",
       "time           70\n",
       "people         69\n",
       "brain          67\n",
       "scientists     65\n",
       "new study      64\n",
       "dtype: int64"
      ]
     },
     "execution_count": 32,
     "metadata": {},
     "output_type": "execute_result"
    }
   ],
   "source": [
    "data_cv3 = pd.DataFrame(cvec3.fit_transform(data['data.title']).todense(), columns=cvec3.get_feature_names())\n",
    "data_cv3['y_target'] = data['category']\n",
    "data_cv3.sum().sort_values(ascending=False).head(10)"
   ]
  },
  {
   "cell_type": "code",
   "execution_count": 33,
   "metadata": {},
   "outputs": [],
   "source": [
    "data_t3, data_h3 = train_test_split(data_cv3, test_size=0.15, random_state=77, stratify=data['category'])"
   ]
  },
  {
   "cell_type": "code",
   "execution_count": 34,
   "metadata": {},
   "outputs": [
    {
     "name": "stdout",
     "output_type": "stream",
     "text": [
      "(1450, 22815)\n",
      "(1450,)\n",
      "(257, 22815)\n",
      "(257,)\n"
     ]
    }
   ],
   "source": [
    "X_t3 = data_t3.drop('y_target', axis=1)\n",
    "y_t3 = data_t3['y_target']\n",
    "X_h3 = data_h3.drop('y_target', axis=1)\n",
    "y_h3 = data_h3['y_target']\n",
    "\n",
    "print(X_t3.shape)\n",
    "print(y_t3.shape)\n",
    "print(X_h3.shape)\n",
    "print(y_h3.shape)"
   ]
  },
  {
   "cell_type": "code",
   "execution_count": 35,
   "metadata": {},
   "outputs": [
    {
     "name": "stdout",
     "output_type": "stream",
     "text": [
      "train score:  0.9986206896551724\n",
      "cv score:  [0.83103448 0.83448276 0.8137931  0.85862069 0.80689655]\n",
      "cv score average:  0.8289655172413791\n",
      "test score:  0.867704280155642\n"
     ]
    }
   ],
   "source": [
    "logreg3 = LogisticRegression()\n",
    "logreg3.fit(X_t3, y_t3)\n",
    "y_pred = logreg3.predict(X_h3)\n",
    "print('train score: ', logreg3.score(X_t3, y_t3))\n",
    "print('cv score: ', cross_val_score(logreg3, X_t3, y_t3, cv=5))\n",
    "print('cv score average: ', cross_val_score(logreg3, X_t3, y_t3, cv=5).mean())\n",
    "print('test score: ', logreg3.score(X_h3, y_h3))"
   ]
  },
  {
   "cell_type": "code",
   "execution_count": 36,
   "metadata": {},
   "outputs": [
    {
     "name": "stdout",
     "output_type": "stream",
     "text": [
      "[[150   3]\n",
      " [ 31  73]]\n",
      "----------\n",
      "True Negatives: 150\n",
      "False Positives: 3\n",
      "False Negatives: 31\n",
      "True Positives: 73\n",
      "----------\n",
      "accuracy =  0.867704280155642\n",
      "miss_class =  0.13229571984435798\n",
      "sensitivity =  0.7019230769230769\n",
      "specificity =  0.9803921568627451\n",
      "precision =  0.9605263157894737\n"
     ]
    }
   ],
   "source": [
    "print(confusion_matrix(y_h3, y_pred))\n",
    "print('----------')\n",
    "tn, fp, fn, tp = confusion_matrix(y_h3, y_pred).ravel()\n",
    "print(\"True Negatives: %s\" % tn)\n",
    "print(\"False Positives: %s\" % fp)\n",
    "print(\"False Negatives: %s\" % fn)\n",
    "print(\"True Positives: %s\" % tp)\n",
    "print('----------')\n",
    "accuracy = (tp+tn)/(tp+fp+tn+fn)\n",
    "miss_class = (fp+fn)/(tp+fp+tn+fn)\n",
    "sensitivity = tp/(tp+fn)\n",
    "specificity = tn/(tn+fp)\n",
    "precision = tp/(tp+fp)\n",
    "print('accuracy = ', accuracy)\n",
    "print('miss_class = ', miss_class)\n",
    "print('sensitivity = ', sensitivity)\n",
    "print('specificity = ', specificity)\n",
    "print('precision = ', precision)"
   ]
  },
  {
   "cell_type": "markdown",
   "metadata": {},
   "source": [
    "# Hashing"
   ]
  },
  {
   "cell_type": "code",
   "execution_count": 37,
   "metadata": {},
   "outputs": [],
   "source": [
    "from sklearn.feature_extraction.text import HashingVectorizer"
   ]
  },
  {
   "cell_type": "code",
   "execution_count": 38,
   "metadata": {},
   "outputs": [],
   "source": [
    "from sklearn.pipeline import make_pipeline\n",
    "from sklearn.metrics import accuracy_score"
   ]
  },
  {
   "cell_type": "markdown",
   "metadata": {},
   "source": [
    "## All Features"
   ]
  },
  {
   "cell_type": "code",
   "execution_count": 39,
   "metadata": {},
   "outputs": [
    {
     "data": {
      "text/plain": [
       "Pipeline(memory=None,\n",
       "     steps=[('hashingvectorizer', HashingVectorizer(alternate_sign=True, analyzer='word', binary=False,\n",
       "         decode_error='strict', dtype=<class 'numpy.float64'>,\n",
       "         encoding='utf-8', input='content', lowercase=True,\n",
       "         n_features=1048576, ngram_range=(1, 2), non_negative=False,\n",
       "         ...penalty='l2', random_state=None, solver='warn',\n",
       "          tol=0.0001, verbose=0, warm_start=False))])"
      ]
     },
     "execution_count": 39,
     "metadata": {},
     "output_type": "execute_result"
    }
   ],
   "source": [
    "model = make_pipeline(HashingVectorizer(stop_words='english', ngram_range=(1, 2)), LogisticRegression())\n",
    "model.fit(data['data.title'], data['category'])"
   ]
  },
  {
   "cell_type": "code",
   "execution_count": 40,
   "metadata": {},
   "outputs": [
    {
     "name": "stdout",
     "output_type": "stream",
     "text": [
      "0.9572349150556532\n"
     ]
    }
   ],
   "source": [
    "y_pred = model.predict(data['data.title'])\n",
    "print(accuracy_score(data['category'], y_pred))"
   ]
  },
  {
   "cell_type": "code",
   "execution_count": 41,
   "metadata": {},
   "outputs": [
    {
     "name": "stdout",
     "output_type": "stream",
     "text": [
      "[[1015    3]\n",
      " [  70  619]]\n",
      "----------\n",
      "True Negatives: 1015\n",
      "False Positives: 3\n",
      "False Negatives: 70\n",
      "True Positives: 619\n",
      "----------\n",
      "accuracy =  0.9572349150556532\n",
      "miss_class =  0.042765084944346804\n",
      "sensitivity =  0.8984034833091437\n",
      "specificity =  0.9970530451866405\n",
      "precision =  0.9951768488745981\n"
     ]
    }
   ],
   "source": [
    "print(confusion_matrix(data['category'], y_pred))\n",
    "print('----------')\n",
    "tn, fp, fn, tp = confusion_matrix(data['category'], y_pred).ravel()\n",
    "print(\"True Negatives: %s\" % tn)\n",
    "print(\"False Positives: %s\" % fp)\n",
    "print(\"False Negatives: %s\" % fn)\n",
    "print(\"True Positives: %s\" % tp)\n",
    "print('----------')\n",
    "accuracy = (tp+tn)/(tp+fp+tn+fn)\n",
    "miss_class = (fp+fn)/(tp+fp+tn+fn)\n",
    "sensitivity = tp/(tp+fn)\n",
    "specificity = tn/(tn+fp)\n",
    "precision = tp/(tp+fp)\n",
    "print('accuracy = ', accuracy)\n",
    "print('miss_class = ', miss_class)\n",
    "print('sensitivity = ', sensitivity)\n",
    "print('specificity = ', specificity)\n",
    "print('precision = ', precision)"
   ]
  },
  {
   "cell_type": "markdown",
   "metadata": {},
   "source": [
    "## 65k Features"
   ]
  },
  {
   "cell_type": "code",
   "execution_count": 42,
   "metadata": {},
   "outputs": [
    {
     "name": "stdout",
     "output_type": "stream",
     "text": [
      "0.9589923842999414\n",
      "Number of features: 65536\n"
     ]
    }
   ],
   "source": [
    "model = make_pipeline(HashingVectorizer(stop_words='english', ngram_range=(1, 2), n_features=2**16), LogisticRegression())\n",
    "model.fit(data['data.title'], data['category'])\n",
    "y_pred = model.predict(data['data.title'])\n",
    "print(accuracy_score(data['category'], y_pred))\n",
    "print(\"Number of features:\", 2**16)"
   ]
  },
  {
   "cell_type": "code",
   "execution_count": 43,
   "metadata": {},
   "outputs": [
    {
     "name": "stdout",
     "output_type": "stream",
     "text": [
      "[[1014    4]\n",
      " [  66  623]]\n",
      "----------\n",
      "True Negatives: 1014\n",
      "False Positives: 4\n",
      "False Negatives: 66\n",
      "True Positives: 623\n",
      "----------\n",
      "accuracy =  0.9589923842999414\n",
      "miss_class =  0.041007615700058585\n",
      "sensitivity =  0.9042089985486212\n",
      "specificity =  0.9960707269155207\n",
      "precision =  0.9936204146730463\n"
     ]
    }
   ],
   "source": [
    "print(confusion_matrix(data['category'], y_pred))\n",
    "print('----------')\n",
    "tn, fp, fn, tp = confusion_matrix(data['category'], y_pred).ravel()\n",
    "print(\"True Negatives: %s\" % tn)\n",
    "print(\"False Positives: %s\" % fp)\n",
    "print(\"False Negatives: %s\" % fn)\n",
    "print(\"True Positives: %s\" % tp)\n",
    "print('----------')\n",
    "accuracy = (tp+tn)/(tp+fp+tn+fn)\n",
    "miss_class = (fp+fn)/(tp+fp+tn+fn)\n",
    "sensitivity = tp/(tp+fn)\n",
    "specificity = tn/(tn+fp)\n",
    "precision = tp/(tp+fp)\n",
    "print('accuracy = ', accuracy)\n",
    "print('miss_class = ', miss_class)\n",
    "print('sensitivity = ', sensitivity)\n",
    "print('specificity = ', specificity)\n",
    "print('precision = ', precision)"
   ]
  },
  {
   "cell_type": "markdown",
   "metadata": {},
   "source": [
    "## 10k Features"
   ]
  },
  {
   "cell_type": "code",
   "execution_count": 44,
   "metadata": {},
   "outputs": [
    {
     "name": "stdout",
     "output_type": "stream",
     "text": [
      "0.9402460456942003\n",
      "Number of features: 10000\n"
     ]
    }
   ],
   "source": [
    "model = make_pipeline(HashingVectorizer(stop_words='english', ngram_range=(1, 2), n_features=10000), LogisticRegression())\n",
    "model.fit(data['data.title'], data['category'])\n",
    "y_pred = model.predict(data['data.title'])\n",
    "print(accuracy_score(data['category'], y_pred))\n",
    "print(\"Number of features:\", 10000)"
   ]
  },
  {
   "cell_type": "code",
   "execution_count": 45,
   "metadata": {},
   "outputs": [
    {
     "name": "stdout",
     "output_type": "stream",
     "text": [
      "[[1009    9]\n",
      " [  93  596]]\n",
      "----------\n",
      "True Negatives: 1009\n",
      "False Positives: 9\n",
      "False Negatives: 93\n",
      "True Positives: 596\n",
      "----------\n",
      "accuracy =  0.9402460456942003\n",
      "miss_class =  0.05975395430579965\n",
      "sensitivity =  0.865021770682148\n",
      "specificity =  0.9911591355599214\n",
      "precision =  0.9851239669421488\n"
     ]
    }
   ],
   "source": [
    "print(confusion_matrix(data['category'], y_pred))\n",
    "print('----------')\n",
    "tn, fp, fn, tp = confusion_matrix(data['category'], y_pred).ravel()\n",
    "print(\"True Negatives: %s\" % tn)\n",
    "print(\"False Positives: %s\" % fp)\n",
    "print(\"False Negatives: %s\" % fn)\n",
    "print(\"True Positives: %s\" % tp)\n",
    "print('----------')\n",
    "accuracy = (tp+tn)/(tp+fp+tn+fn)\n",
    "miss_class = (fp+fn)/(tp+fp+tn+fn)\n",
    "sensitivity = tp/(tp+fn)\n",
    "specificity = tn/(tn+fp)\n",
    "precision = tp/(tp+fp)\n",
    "print('accuracy = ', accuracy)\n",
    "print('miss_class = ', miss_class)\n",
    "print('sensitivity = ', sensitivity)\n",
    "print('specificity = ', specificity)\n",
    "print('precision = ', precision)"
   ]
  },
  {
   "cell_type": "markdown",
   "metadata": {},
   "source": [
    "## 5k Features"
   ]
  },
  {
   "cell_type": "code",
   "execution_count": 46,
   "metadata": {},
   "outputs": [
    {
     "name": "stdout",
     "output_type": "stream",
     "text": [
      "0.9291154071470415\n",
      "Number of features: 5000\n"
     ]
    }
   ],
   "source": [
    "model = make_pipeline(HashingVectorizer(stop_words='english', ngram_range=(1, 2), n_features=5000), LogisticRegression())\n",
    "model.fit(data['data.title'], data['category'])\n",
    "y_pred = model.predict(data['data.title'])\n",
    "print(accuracy_score(data['category'], y_pred))\n",
    "print(\"Number of features:\", 5000)"
   ]
  },
  {
   "cell_type": "code",
   "execution_count": 47,
   "metadata": {},
   "outputs": [
    {
     "name": "stdout",
     "output_type": "stream",
     "text": [
      "[[1009    9]\n",
      " [ 112  577]]\n",
      "----------\n",
      "True Negatives: 1009\n",
      "False Positives: 9\n",
      "False Negatives: 112\n",
      "True Positives: 577\n",
      "----------\n",
      "accuracy =  0.9291154071470415\n",
      "miss_class =  0.07088459285295841\n",
      "sensitivity =  0.8374455732946299\n",
      "specificity =  0.9911591355599214\n",
      "precision =  0.984641638225256\n"
     ]
    }
   ],
   "source": [
    "print(confusion_matrix(data['category'], y_pred))\n",
    "print('----------')\n",
    "tn, fp, fn, tp = confusion_matrix(data['category'], y_pred).ravel()\n",
    "print(\"True Negatives: %s\" % tn)\n",
    "print(\"False Positives: %s\" % fp)\n",
    "print(\"False Negatives: %s\" % fn)\n",
    "print(\"True Positives: %s\" % tp)\n",
    "print('----------')\n",
    "accuracy = (tp+tn)/(tp+fp+tn+fn)\n",
    "miss_class = (fp+fn)/(tp+fp+tn+fn)\n",
    "sensitivity = tp/(tp+fn)\n",
    "specificity = tn/(tn+fp)\n",
    "precision = tp/(tp+fp)\n",
    "print('accuracy = ', accuracy)\n",
    "print('miss_class = ', miss_class)\n",
    "print('sensitivity = ', sensitivity)\n",
    "print('specificity = ', specificity)\n",
    "print('precision = ', precision)"
   ]
  },
  {
   "cell_type": "markdown",
   "metadata": {},
   "source": [
    "## 1k Features"
   ]
  },
  {
   "cell_type": "code",
   "execution_count": 48,
   "metadata": {},
   "outputs": [
    {
     "name": "stdout",
     "output_type": "stream",
     "text": [
      "0.8699472759226714\n",
      "Number of features: 1000\n"
     ]
    }
   ],
   "source": [
    "model = make_pipeline(HashingVectorizer(stop_words='english', ngram_range=(1, 2), n_features=1000), LogisticRegression())\n",
    "model.fit(data['data.title'], data['category'])\n",
    "y_pred = model.predict(data['data.title'])\n",
    "print(accuracy_score(data['category'], y_pred))\n",
    "print(\"Number of features:\", 1000)"
   ]
  },
  {
   "cell_type": "code",
   "execution_count": 49,
   "metadata": {},
   "outputs": [
    {
     "name": "stdout",
     "output_type": "stream",
     "text": [
      "[[981  37]\n",
      " [185 504]]\n",
      "----------\n",
      "True Negatives: 981\n",
      "False Positives: 37\n",
      "False Negatives: 185\n",
      "True Positives: 504\n",
      "----------\n",
      "accuracy =  0.8699472759226714\n",
      "miss_class =  0.13005272407732865\n",
      "sensitivity =  0.7314949201741655\n",
      "specificity =  0.9636542239685658\n",
      "precision =  0.9316081330868762\n"
     ]
    }
   ],
   "source": [
    "print(confusion_matrix(data['category'], y_pred))\n",
    "print('----------')\n",
    "tn, fp, fn, tp = confusion_matrix(data['category'], y_pred).ravel()\n",
    "print(\"True Negatives: %s\" % tn)\n",
    "print(\"False Positives: %s\" % fp)\n",
    "print(\"False Negatives: %s\" % fn)\n",
    "print(\"True Positives: %s\" % tp)\n",
    "print('----------')\n",
    "accuracy = (tp+tn)/(tp+fp+tn+fn)\n",
    "miss_class = (fp+fn)/(tp+fp+tn+fn)\n",
    "sensitivity = tp/(tp+fn)\n",
    "specificity = tn/(tn+fp)\n",
    "precision = tp/(tp+fp)\n",
    "print('accuracy = ', accuracy)\n",
    "print('miss_class = ', miss_class)\n",
    "print('sensitivity = ', sensitivity)\n",
    "print('specificity = ', specificity)\n",
    "print('precision = ', precision)"
   ]
  },
  {
   "cell_type": "markdown",
   "metadata": {},
   "source": [
    "## 6615 Features"
   ]
  },
  {
   "cell_type": "code",
   "execution_count": 50,
   "metadata": {},
   "outputs": [
    {
     "name": "stdout",
     "output_type": "stream",
     "text": [
      "0.9414176918570591\n",
      "Number of features: 6615\n"
     ]
    }
   ],
   "source": [
    "model = make_pipeline(HashingVectorizer(stop_words='english', ngram_range=(1, 2), n_features=6615), LogisticRegression())\n",
    "model.fit(data['data.title'], data['category'])\n",
    "y_pred = model.predict(data['data.title'])\n",
    "print(accuracy_score(data['category'], y_pred))\n",
    "print(\"Number of features:\", 6615)"
   ]
  },
  {
   "cell_type": "code",
   "execution_count": 51,
   "metadata": {},
   "outputs": [
    {
     "name": "stdout",
     "output_type": "stream",
     "text": [
      "[[1009    9]\n",
      " [  91  598]]\n",
      "----------\n",
      "True Negatives: 1009\n",
      "False Positives: 9\n",
      "False Negatives: 91\n",
      "True Positives: 598\n",
      "----------\n",
      "accuracy =  0.9414176918570591\n",
      "miss_class =  0.05858230814294083\n",
      "sensitivity =  0.8679245283018868\n",
      "specificity =  0.9911591355599214\n",
      "precision =  0.985172981878089\n"
     ]
    }
   ],
   "source": [
    "print(confusion_matrix(data['category'], y_pred))\n",
    "print('----------')\n",
    "tn, fp, fn, tp = confusion_matrix(data['category'], y_pred).ravel()\n",
    "print(\"True Negatives: %s\" % tn)\n",
    "print(\"False Positives: %s\" % fp)\n",
    "print(\"False Negatives: %s\" % fn)\n",
    "print(\"True Positives: %s\" % tp)\n",
    "print('----------')\n",
    "accuracy = (tp+tn)/(tp+fp+tn+fn)\n",
    "miss_class = (fp+fn)/(tp+fp+tn+fn)\n",
    "sensitivity = tp/(tp+fn)\n",
    "specificity = tn/(tn+fp)\n",
    "precision = tp/(tp+fp)\n",
    "print('accuracy = ', accuracy)\n",
    "print('miss_class = ', miss_class)\n",
    "print('sensitivity = ', sensitivity)\n",
    "print('specificity = ', specificity)\n",
    "print('precision = ', precision)"
   ]
  },
  {
   "cell_type": "markdown",
   "metadata": {},
   "source": [
    "## TFIDF"
   ]
  },
  {
   "cell_type": "code",
   "execution_count": 52,
   "metadata": {},
   "outputs": [],
   "source": [
    "from sklearn.feature_extraction.text import TfidfVectorizer"
   ]
  },
  {
   "cell_type": "code",
   "execution_count": 53,
   "metadata": {},
   "outputs": [
    {
     "name": "stdout",
     "output_type": "stream",
     "text": [
      "0.9607498535442296\n",
      "Number of features: 6615\n"
     ]
    }
   ],
   "source": [
    "model = make_pipeline(TfidfVectorizer(stop_words='english', sublinear_tf=True, max_df=0.5, max_features=15000), LogisticRegression())\n",
    "model.fit(data['data.title'], data['category'])\n",
    "y_pred = model.predict(data['data.title'])\n",
    "print(accuracy_score(data['category'], y_pred))\n",
    "print(\"Number of features:\", len(model.steps[0][1].get_feature_names()))"
   ]
  },
  {
   "cell_type": "code",
   "execution_count": 54,
   "metadata": {},
   "outputs": [
    {
     "name": "stdout",
     "output_type": "stream",
     "text": [
      "[[1016    2]\n",
      " [  65  624]]\n",
      "----------\n",
      "True Negatives: 1016\n",
      "False Positives: 2\n",
      "False Negatives: 65\n",
      "True Positives: 624\n",
      "----------\n",
      "accuracy =  0.9607498535442296\n",
      "miss_class =  0.03925014645577036\n",
      "sensitivity =  0.9056603773584906\n",
      "specificity =  0.9980353634577603\n",
      "precision =  0.9968051118210862\n"
     ]
    }
   ],
   "source": [
    "print(confusion_matrix(data['category'], y_pred))\n",
    "print('----------')\n",
    "tn, fp, fn, tp = confusion_matrix(data['category'], y_pred).ravel()\n",
    "print(\"True Negatives: %s\" % tn)\n",
    "print(\"False Positives: %s\" % fp)\n",
    "print(\"False Negatives: %s\" % fn)\n",
    "print(\"True Positives: %s\" % tp)\n",
    "print('----------')\n",
    "accuracy = (tp+tn)/(tp+fp+tn+fn)\n",
    "miss_class = (fp+fn)/(tp+fp+tn+fn)\n",
    "sensitivity = tp/(tp+fn)\n",
    "specificity = tn/(tn+fp)\n",
    "precision = tp/(tp+fp)\n",
    "print('accuracy = ', accuracy)\n",
    "print('miss_class = ', miss_class)\n",
    "print('sensitivity = ', sensitivity)\n",
    "print('specificity = ', specificity)\n",
    "print('precision = ', precision)"
   ]
  },
  {
   "cell_type": "markdown",
   "metadata": {},
   "source": [
    "# Naive Bayes - Multinomial"
   ]
  },
  {
   "cell_type": "code",
   "execution_count": 55,
   "metadata": {},
   "outputs": [],
   "source": [
    "from sklearn.naive_bayes import MultinomialNB"
   ]
  },
  {
   "cell_type": "code",
   "execution_count": 56,
   "metadata": {},
   "outputs": [
    {
     "name": "stdout",
     "output_type": "stream",
     "text": [
      "(1450, 6615)\n",
      "(1450,)\n"
     ]
    }
   ],
   "source": [
    "print(X_t.shape)\n",
    "print(y_t.shape)"
   ]
  },
  {
   "cell_type": "code",
   "execution_count": 57,
   "metadata": {},
   "outputs": [
    {
     "name": "stdout",
     "output_type": "stream",
     "text": [
      "Multinomial NB Score - train:  0.9772413793103448\n",
      "Multinomial NB Score - test:  0.8560311284046692\n"
     ]
    }
   ],
   "source": [
    "nb = MultinomialNB()\n",
    "multi_nb = nb.fit(X_t, y_t)\n",
    "print('Multinomial NB Score - train: ', multi_nb.score(X_t, y_t))\n",
    "print('Multinomial NB Score - test: ', multi_nb.score(X_h, y_h))"
   ]
  },
  {
   "cell_type": "code",
   "execution_count": 58,
   "metadata": {},
   "outputs": [
    {
     "data": {
      "text/plain": [
       "MultinomialNB(alpha=1.0, class_prior=None, fit_prior=True)"
      ]
     },
     "execution_count": 58,
     "metadata": {},
     "output_type": "execute_result"
    }
   ],
   "source": [
    "multi_nb"
   ]
  },
  {
   "cell_type": "code",
   "execution_count": 59,
   "metadata": {},
   "outputs": [],
   "source": [
    "multi_nb_pred = multi_nb.predict(X_h)\n",
    "#multi_nb_error = abs(y_h - multi_nb_pred)\n",
    "#multi_nb_error.sum()"
   ]
  },
  {
   "cell_type": "code",
   "execution_count": 60,
   "metadata": {},
   "outputs": [
    {
     "name": "stdout",
     "output_type": "stream",
     "text": [
      "[[133  20]\n",
      " [ 17  87]]\n",
      "----------\n",
      "True Negatives: 133\n",
      "False Positives: 20\n",
      "False Negatives: 17\n",
      "True Positives: 87\n",
      "----------\n",
      "accuracy =  0.8560311284046692\n",
      "miss_class =  0.14396887159533073\n",
      "sensitivity =  0.8365384615384616\n",
      "specificity =  0.869281045751634\n",
      "precision =  0.8130841121495327\n"
     ]
    }
   ],
   "source": [
    "print(confusion_matrix(y_h, multi_nb_pred))\n",
    "print('----------')\n",
    "tn, fp, fn, tp = confusion_matrix(y_h, multi_nb_pred).ravel()\n",
    "print(\"True Negatives: %s\" % tn)\n",
    "print(\"False Positives: %s\" % fp)\n",
    "print(\"False Negatives: %s\" % fn)\n",
    "print(\"True Positives: %s\" % tp)\n",
    "print('----------')\n",
    "accuracy = (tp+tn)/(tp+fp+tn+fn)\n",
    "miss_class = (fp+fn)/(tp+fp+tn+fn)\n",
    "sensitivity = tp/(tp+fn)\n",
    "specificity = tn/(tn+fp)\n",
    "precision = tp/(tp+fp)\n",
    "print('accuracy = ', accuracy)\n",
    "print('miss_class = ', miss_class)\n",
    "print('sensitivity = ', sensitivity)\n",
    "print('specificity = ', specificity)\n",
    "print('precision = ', precision)"
   ]
  },
  {
   "cell_type": "code",
   "execution_count": 61,
   "metadata": {},
   "outputs": [],
   "source": [
    "#cm_nb = pd.DataFrame(confusion_matrix(y_h, multi_nb_pred),\n",
    "#                     index=['actual askscience', 'actual science'],\n",
    "#                     columns=['pred askscience', 'pred science'])\n",
    "#cm_nb"
   ]
  },
  {
   "cell_type": "markdown",
   "metadata": {},
   "source": [
    "# Result Summary\n",
    "|Model|data|accuracy|miss_class|sensitivity|specificity|precision|note|\n",
    "|---|---|---|---|---|---|---|---|\n",
    "|Multinomial Naïve Bayes|test|0.856|0.1439|0.8365|0.8693|0.8131|score on test data|\n",
    "|Log-reg; Bag of Words - stop_word|test|0.8988|0.1012|0.7981|0.9673|0.9432|score on test data|\n",
    "|Log-reg; Bag of Words - ngram (range: 1-2)|test|0.9339|0.0661|0.9038|0.9542|0.9307|score on test data|\n",
    "|Log-reg; Bag of Words - stop-word & ngram (range: 1-2)|test|0.8677|0.1323|0.7019|0.9804|0.9605|score on test data|\n",
    "|Hashing - stop-word & ngram (range: 1-2), all features|all|0.9572|0.0428|0.8984|0.9971|0.9952|score on all data - no train-test split|\n",
    "|Hashing - stop-word & ngram (range: 1-2), 65k features|all|0.9589|0.041|0.9042|0.9961|0.9936|score on all data - no train-test split|\n",
    "|Hashing - stop-word & ngram (range: 1-2), 10k features|all|0.9402|0.0598|0.865|0.9912|0.9851|score on all data - no train-test split|\n",
    "|Hashing - stop-word & ngram (range: 1-2), 5k features|all|0.9291|0.0709|0.8374|0.9912|0.9846|score on all data - no train-test split|\n",
    "|Hashing - stop-word & ngram (range: 1-2), 1k features|all|0.8699|0.13|0.7315|0.9637|0.9316|score on all data - no train-test split|\n",
    "|Hashing - stop-word & ngram (range: 1-2), 6615 features|all|0.9414|0.0586|0.8679|0.9912|0.9852|score on all data - no train-test split|\n",
    "|Log-reg; TFIDF - stop-word, 6615 features|all|0.9607|0.0392|0.9057|0.998|0.9968|score on all data - no train-test split|"
   ]
  },
  {
   "cell_type": "code",
   "execution_count": null,
   "metadata": {},
   "outputs": [],
   "source": []
  }
 ],
 "metadata": {
  "kernelspec": {
   "display_name": "Python 3",
   "language": "python",
   "name": "python3"
  },
  "language_info": {
   "codemirror_mode": {
    "name": "ipython",
    "version": 3
   },
   "file_extension": ".py",
   "mimetype": "text/x-python",
   "name": "python",
   "nbconvert_exporter": "python",
   "pygments_lexer": "ipython3",
   "version": "3.7.3"
  }
 },
 "nbformat": 4,
 "nbformat_minor": 2
}
