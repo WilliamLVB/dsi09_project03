{
 "cells": [
  {
   "cell_type": "markdown",
   "metadata": {},
   "source": [
    "# Data Collection"
   ]
  },
  {
   "cell_type": "code",
   "execution_count": 1,
   "metadata": {},
   "outputs": [],
   "source": [
    "import requests\n",
    "import time\n",
    "import pandas as pd\n",
    "from pandas.io.json import json_normalize"
   ]
  },
  {
   "cell_type": "code",
   "execution_count": 2,
   "metadata": {},
   "outputs": [],
   "source": [
    "header = {'user-agent': \"redditAPI\"}"
   ]
  },
  {
   "cell_type": "code",
   "execution_count": 3,
   "metadata": {},
   "outputs": [
    {
     "name": "stdout",
     "output_type": "stream",
     "text": [
      "0\n",
      "t3_chdunr\n",
      "1\n",
      "t3_ch9lkc\n",
      "2\n",
      "t3_ch4itp\n",
      "3\n",
      "t3_cgyaxz\n",
      "4\n",
      "t3_cglpk5\n"
     ]
    }
   ],
   "source": [
    "#r/askscience data extraction\n",
    "posts = []\n",
    "after = None\n",
    "\n",
    "for i in range(5):\n",
    "    print(i)\n",
    "    if after == None:\n",
    "        param = {}\n",
    "    else:\n",
    "        param = {'after': after}\n",
    "    url01 = 'https://www.reddit.com/r/askscience/hot.json'\n",
    "    res = requests.get(url01, headers=header, params=param)\n",
    "    if res.status_code == 200:\n",
    "        the_json = res.json()\n",
    "        posts.extend(the_json['data']['children'])\n",
    "        after = the_json['data']['after']\n",
    "        print(after)\n",
    "    else:\n",
    "        print(res.status_code)\n",
    "        break\n",
    "    time.sleep(1)\n",
    "d_api = pd.DataFrame(json_normalize(posts))"
   ]
  },
  {
   "cell_type": "code",
   "execution_count": 4,
   "metadata": {},
   "outputs": [],
   "source": [
    "#save r/askscience data as csv file\n",
    "d_api.to_csv('./data/d_api_asksciencetest.csv', index=False)"
   ]
  },
  {
   "cell_type": "code",
   "execution_count": 5,
   "metadata": {},
   "outputs": [
    {
     "name": "stdout",
     "output_type": "stream",
     "text": [
      "0\n",
      "t3_chpmpp\n",
      "1\n",
      "t3_chfl2m\n",
      "2\n",
      "t3_cgztvh\n",
      "3\n",
      "t3_cgw98o\n",
      "4\n",
      "t3_cgu52e\n"
     ]
    }
   ],
   "source": [
    "#r/science data extraction\n",
    "posts2 = []\n",
    "after2 = None\n",
    "\n",
    "for i in range(5):\n",
    "    print(i)\n",
    "    if after2 == None:\n",
    "        param2 = {}\n",
    "    else:\n",
    "        param2 = {'after': after2}\n",
    "    url02 = 'https://www.reddit.com/r/science/hot.json'\n",
    "    res2 = requests.get(url02, headers=header, params=param2)\n",
    "    if res2.status_code == 200:\n",
    "        the_json2 = res2.json()\n",
    "        posts2.extend(the_json2['data']['children'])\n",
    "        after2 = the_json2['data']['after']\n",
    "        print(after2)\n",
    "    else:\n",
    "        print(res2.status_code)\n",
    "        break\n",
    "    time.sleep(1)\n",
    "d_api2 = pd.DataFrame(json_normalize(posts2))"
   ]
  },
  {
   "cell_type": "code",
   "execution_count": 6,
   "metadata": {},
   "outputs": [],
   "source": [
    "#save r/science data as csv file\n",
    "d_api2.to_csv('./data/d_api2_sciencetest.csv', index=False)"
   ]
  },
  {
   "cell_type": "code",
   "execution_count": 7,
   "metadata": {},
   "outputs": [
    {
     "name": "stdout",
     "output_type": "stream",
     "text": [
      "(127, 97)\n",
      "(125, 102)\n"
     ]
    }
   ],
   "source": [
    "print(d_api.shape)\n",
    "print(d_api2.shape)"
   ]
  },
  {
   "cell_type": "code",
   "execution_count": null,
   "metadata": {},
   "outputs": [],
   "source": []
  }
 ],
 "metadata": {
  "kernelspec": {
   "display_name": "Python 3",
   "language": "python",
   "name": "python3"
  },
  "language_info": {
   "codemirror_mode": {
    "name": "ipython",
    "version": 3
   },
   "file_extension": ".py",
   "mimetype": "text/x-python",
   "name": "python",
   "nbconvert_exporter": "python",
   "pygments_lexer": "ipython3",
   "version": "3.7.3"
  }
 },
 "nbformat": 4,
 "nbformat_minor": 2
}
